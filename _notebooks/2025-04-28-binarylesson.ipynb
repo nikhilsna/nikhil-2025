{
 "cells": [
  {
   "cell_type": "markdown",
   "id": "cd286094",
   "metadata": {},
   "source": [
    "---\n",
    "layout: post \n",
    "title: Homework hack for Binary\n",
    "permalink: /binary/\n",
    "toc: true\n",
    "comments: true\n",
    "---"
   ]
  },
  {
   "cell_type": "markdown",
   "id": "6bbe593a",
   "metadata": {},
   "source": []
  }
 ],
 "metadata": {
  "language_info": {
   "name": "python"
  }
 },
 "nbformat": 4,
 "nbformat_minor": 5
}
