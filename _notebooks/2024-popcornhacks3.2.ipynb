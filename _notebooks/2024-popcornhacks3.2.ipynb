{
 "cells": [
  {
   "cell_type": "markdown",
   "metadata": {},
   "source": [
    "---\n",
    "layout: post \n",
    "title: Popcorn Hacks for Group 3.2\n",
    "permalink: /hack3.10/\n",
    "toc: true\n",
    "---"
   ]
  },
  {
   "cell_type": "code",
   "execution_count": null,
   "metadata": {},
   "outputs": [],
   "source": [
    "\n",
    "#data types part 1\n",
    "# function that adds two numbers\n",
    "def sum_of_two(num1, num2):\n",
    "    \"\"\"This function takes two numbers and returns their sum.\"\"\"\n",
    "    return num1 + num2\n",
    "\n",
    "# attempt to get user input\n",
    "try:\n",
    "    # ask the user for two integer inputs\n",
    "    num_one = int(input(\"Please enter the first number: \"))\n",
    "    num_two = int(input(\"Please enter the second number: \"))\n",
    "\n",
    "    # call the function to calculate the sum\n",
    "    result = sum_of_two(num_one, num_two)\n",
    "\n",
    "    # display the result of the addition\n",
    "    print(f\"The result of adding {num_one} and {num_two} is: {result}\")\n",
    "\n",
    "# handle invalid input\n",
    "except ValueError:\n",
    "    print(\"Error: Please make sure you enter valid numbers.\")\n"
   ]
  },
  {
   "cell_type": "code",
   "execution_count": null,
   "metadata": {},
   "outputs": [],
   "source": [
    "#data types part 2\n",
    "# creating a dictionary with a person's details\n",
    "individual = {\n",
    "    \"first_name\": \"John\",\n",
    "    \"age\": 30,\n",
    "    \"is_enrolled\": True\n",
    "}\n",
    "\n",
    "# updating the age value in the dictionary\n",
    "individual[\"age\"] = 31  # updates John's age\n",
    "\n",
    "# adding another person's details\n",
    "individual[\"Sarah\"] = {\n",
    "    \"first_name\": \"Sarah\",\n",
    "    \"age\": 28,\n",
    "    \"is_enrolled\": False\n",
    "}\n"
   ]
  },
  {
   "cell_type": "code",
   "execution_count": null,
   "metadata": {},
   "outputs": [],
   "source": [
    "# create a dictionary with 3 keys, print it\n",
    "employee = {\n",
    "    \"name\": \"John\",\n",
    "    \"age\": 45,\n",
    "    \"position\": \"Manager\"\n",
    "}\n",
    "print(\"original dictionary:\", employee)\n",
    "\n",
    "# function to update any value in the dict\n",
    "def update_info(key, new_value):\n",
    "    if key in employee:\n",
    "        employee[key] = new_value  # update if key exists\n",
    "        print(f\"{key} updated to {new_value}\")\n",
    "    else:\n",
    "        print(f\"'{key}' doesn’t exist in the dictionary\")\n",
    "\n",
    "# updating age to 31\n",
    "update_info(\"age\", 31)\n",
    "\n",
    "# updating position to something else\n",
    "update_info(\"position\", \"Director\")  # this will work\n",
    "update_info(\"department\", \"HR\")  # this won’t work, 'department' isn't in dict\n",
    "\n",
    "# print updated dict\n",
    "print(\"updated dictionary:\", employee)\n",
    "\n",
    "# simple function to print employee info summary\n",
    "def summary():\n",
    "    print(\"\\nemployee summary:\")\n",
    "    for key, value in employee.items():\n",
    "        print(f\"{key}: {value}\")\n",
    "\n",
    "# call summary to display final employee details\n",
    "summary()\n"
   ]
  }
 ],
 "metadata": {
  "language_info": {
   "name": "python"
  }
 },
 "nbformat": 4,
 "nbformat_minor": 2
}
