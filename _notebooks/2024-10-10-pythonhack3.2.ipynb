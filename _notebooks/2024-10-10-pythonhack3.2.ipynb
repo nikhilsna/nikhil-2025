{
 "cells": [
  {
   "cell_type": "markdown",
   "metadata": {},
   "source": [
    "---\n",
    "layout: post \n",
    "title: Python Hack for Group 3.2\n",
    "permalink: /pyhack3.2/\n",
    "toc: true\n",
    "---"
   ]
  },
  {
   "cell_type": "code",
   "execution_count": 1,
   "metadata": {},
   "outputs": [
    {
     "name": "stdout",
     "output_type": "stream",
     "text": [
      "The sum of 1 and 4 is 5\n"
     ]
    }
   ],
   "source": [
    "# Function to add two numbers\n",
    "def add_numbers(num1, num2):\n",
    "    \"\"\"\n",
    "    This function takes two integers and returns their sum.\n",
    "    \"\"\"\n",
    "    return num1 + num2\n",
    "\n",
    "# Try to get input from the user\n",
    "try:\n",
    "    # Ask for the first number\n",
    "    first_number = int(input(\"Enter the first integer: \"))\n",
    "    \n",
    "    # Ask for the second number\n",
    "    second_number = int(input(\"Enter the second integer: \"))\n",
    "\n",
    "    # Calculate the sum using the function\n",
    "    result = add_numbers(first_number, second_number)\n",
    "\n",
    "    # Output the result\n",
    "    print(f\"The sum of {first_number} and {second_number} is {result}\")\n",
    "\n",
    "# Handle cases where the input isn't a valid integer\n",
    "except ValueError:\n",
    "    print(\"Invalid input. Please enter valid integers.\")\n",
    "\n"
   ]
  }
 ],
 "metadata": {
  "kernelspec": {
   "display_name": "venv",
   "language": "python",
   "name": "python3"
  },
  "language_info": {
   "codemirror_mode": {
    "name": "ipython",
    "version": 3
   },
   "file_extension": ".py",
   "mimetype": "text/x-python",
   "name": "python",
   "nbconvert_exporter": "python",
   "pygments_lexer": "ipython3",
   "version": "3.10.12"
  }
 },
 "nbformat": 4,
 "nbformat_minor": 2
}
