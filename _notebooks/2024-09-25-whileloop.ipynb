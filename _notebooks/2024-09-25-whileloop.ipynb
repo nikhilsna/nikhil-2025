{
 "cells": [
  {
   "cell_type": "markdown",
   "metadata": {},
   "source": [
    "---\n",
    "layout: post \n",
    "title: While Loops\n",
    "permalink: /whileloop/\n",
    "toc: true\n",
    "---"
   ]
  },
  {
   "cell_type": "code",
   "execution_count": 1,
   "metadata": {},
   "outputs": [
    {
     "name": "stdout",
     "output_type": "stream",
     "text": [
      "This is message number 1\n",
      "This is message number 2\n",
      "This is message number 3\n"
     ]
    }
   ],
   "source": [
    "# A while loop is a programming structure that allows us to execute a block of code repeatedly as long as a condition is true.\n",
    "# This can be particularly useful for counting or accumulating values.\n",
    "# In this example, we will use a while loop to display letters from 'A' to 'E' and calculate their corresponding ASCII values.\n",
    "\n",
    "# Pseudocode:\n",
    "# count ← 1\n",
    "# WHILE count IS LESS THAN OR EQUAL TO 3:\n",
    "#     DISPLAY \"This is message number\" count\n",
    "#     count ← count + 1\n",
    "# END WHILE\n",
    "\n",
    "\n",
    "# Python Code:\n",
    "count = 1  # Start counting from 1\n",
    "while count <= 3:  # Continue while count is 3 or less\n",
    "    print(\"This is message number\", count)  # Display the current message number\n",
    "    count += 1  # Increment count by 1\n",
    "\n",
    "#Problem: Infinite Loop with a While Statement\n",
    "#Write a while loop that continuously prints \"Hello, World!\" until you stop the program.\n",
    "\n",
    "\n",
    "\n",
    "\n",
    "\n",
    "\n",
    "\n"
   ]
  }
 ],
 "metadata": {
  "kernelspec": {
   "display_name": "venv",
   "language": "python",
   "name": "python3"
  },
  "language_info": {
   "codemirror_mode": {
    "name": "ipython",
    "version": 3
   },
   "file_extension": ".py",
   "mimetype": "text/x-python",
   "name": "python",
   "nbconvert_exporter": "python",
   "pygments_lexer": "ipython3",
   "version": "3.10.12"
  }
 },
 "nbformat": 4,
 "nbformat_minor": 2
}
