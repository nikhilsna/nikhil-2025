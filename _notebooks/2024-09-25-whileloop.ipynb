{
 "cells": [
  {
   "cell_type": "markdown",
   "metadata": {},
   "source": [
    "---\n",
    "layout: post \n",
    "title: While Loops\n",
    "permalink: /whileloop/\n",
    "toc: true\n",
    "---"
   ]
  },
  {
   "cell_type": "code",
   "execution_count": 1,
   "metadata": {},
   "outputs": [
    {
     "name": "stdout",
     "output_type": "stream",
     "text": [
      "1\n",
      "2\n",
      "3\n",
      "4\n",
      "5\n"
     ]
    }
   ],
   "source": [
    "# A while loop is a programming structure that allows us to execute a block of code repeatedly as long as a condition is true.\n",
    "# This can be particularly useful for counting or accumulating values.\n",
    "# In this example, we will use a while loop to display letters from 'A' to 'E' and calculate their corresponding ASCII values.\n",
    "\n",
    "# Pseudocode:\n",
    "# letter ← 'A'\n",
    "# WHILE letter IS LESS THAN OR EQUAL TO 'E':\n",
    "#     DISPLAY letter\n",
    "#     DISPLAY ASCII VALUE of letter\n",
    "#     letter ← NEXT LETTER\n",
    "# END WHILE\n",
    "\n",
    "# Python Code:\n",
    "current_letter = 'A'  # Start from letter 'A'\n",
    "while current_letter <= 'E':  # Continue while the current letter is 'E' or less\n",
    "    print(current_letter)  # Display the current letter\n",
    "    print(ord(current_letter))  # Display the ASCII value of the current letter\n",
    "    current_letter = chr(ord(current_letter) + 1)  # Move to the next letter\n",
    "\n",
    "#Problem: Counting with a While Loop\n",
    "#Start with a variable set to 1 and use a while loop to count up to 5, displaying each number as you go.\n",
    "\n",
    "\n"
   ]
  }
 ],
 "metadata": {
  "kernelspec": {
   "display_name": "venv",
   "language": "python",
   "name": "python3"
  },
  "language_info": {
   "codemirror_mode": {
    "name": "ipython",
    "version": 3
   },
   "file_extension": ".py",
   "mimetype": "text/x-python",
   "name": "python",
   "nbconvert_exporter": "python",
   "pygments_lexer": "ipython3",
   "version": "3.10.12"
  }
 },
 "nbformat": 4,
 "nbformat_minor": 2
}
