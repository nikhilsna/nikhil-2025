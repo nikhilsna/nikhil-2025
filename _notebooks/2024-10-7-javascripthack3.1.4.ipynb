{
 "cells": [
  {
   "cell_type": "markdown",
   "metadata": {},
   "source": [
    "---\n",
    "layout: post \n",
    "title: Javascript Hack for Group 3.1\n",
    "permalink: /jshack/\n",
    "toc: true\n",
    "---"
   ]
  },
  {
   "cell_type": "code",
   "execution_count": null,
   "metadata": {
    "vscode": {
     "languageId": "javascript"
    }
   },
   "outputs": [],
   "source": [
    "// Create variables for the first product\n",
    "let productName1 = \"Laptops\";\n",
    "let productPrice1 = 1200;\n",
    "let productStock1 = 10;\n",
    "\n",
    "// Create variables for the second product\n",
    "let productName2 = \"Smartphones\";\n",
    "let productPrice2 = 800;\n",
    "let productStock2 = 25;\n",
    "\n",
    "// Output messages describing each product's stock and price\n",
    "console.log(`The store has ${productStock1} units of ${productName1} priced at $${productPrice1} each.`);\n",
    "console.log(`The store has ${productStock2} units of ${productName2} priced at $${productPrice2} each.`);\n"
   ]
  }
 ],
 "metadata": {
  "language_info": {
   "name": "python"
  }
 },
 "nbformat": 4,
 "nbformat_minor": 2
}
