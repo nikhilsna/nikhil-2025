{
 "cells": [
  {
   "cell_type": "markdown",
   "metadata": {},
   "source": [
    "---\n",
    "layout: post \n",
    "title: Homework hack for Beneficial/Harmful effects\n",
    "permalink: /crdsrc/\n",
    "toc: true\n",
    "comments: true\n",
    "---"
   ]
  },
  {
   "cell_type": "markdown",
   "metadata": {
    "vscode": {
     "languageId": "plaintext"
    }
   },
   "source": [
    "# **Popcorn Hack 1: Types of Crowdsourcing and Innovation**  \n",
    "\n",
    "1. **Crowdfunding**: Collects small contributions to fund projects (e.g., Kickstarter). It helps bring creative ideas to life.  \n",
    "2. **Crowd Creation**: Gathers creative input (e.g., Wikipedia). It fuels innovation by leveraging diverse skills.  \n",
    "3. **Crowd Voting**: Collects public opinions (e.g., Reddit). It ensures user-focused decisions.  \n",
    "4. **Crowd Wisdom**: Uses collective intelligence (e.g., Quora). It solves problems with diverse insights.  \n",
    "\n",
    "---\n",
    "\n",
    "# **Popcorn Hack 2: Data Crowdsourcing and Open-Source Development**  \n",
    "\n",
    "Data crowdsourcing gathers information from many contributors to create public datasets that power open-source projects.  \n",
    "- **Examples**: Wikipedia (knowledge base), Zooniverse (scientific research), Google Maps (real-time traffic data).  \n",
    "- **Impact**: Drives advancements in AI, machine learning, and global collaboration.  \n",
    "\n",
    "---\n",
    "\n",
    "# **Homework: Crowdsourcing and Innovation**  \n",
    "\n",
    "Crowdsourcing connects people worldwide to share ideas, solve problems, and create solutions. Its types, like crowdfunding and crowd wisdom, make innovation more accessible and inclusive. Distributed computing enhances this by processing large-scale data efficiently. Data crowdsourcing, like Wikipedia and OpenStreetMap, supports open-source development and technological progress.  \n",
    "\n",
    "In the future, crowdsourcing will continue to drive breakthroughs through global collaboration and shared knowledge."
   ]
  }
 ],
 "metadata": {
  "language_info": {
   "name": "python"
  }
 },
 "nbformat": 4,
 "nbformat_minor": 2
}
