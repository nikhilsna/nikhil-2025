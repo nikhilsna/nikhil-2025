{
 "cells": [
  {
   "cell_type": "markdown",
   "metadata": {},
   "source": [
    "---\n",
    "layout: post \n",
    "title: Python Hack for Group 3.1\n",
    "permalink: /pyhack/\n",
    "toc: true\n",
    "---"
   ]
  },
  {
   "cell_type": "code",
   "execution_count": 1,
   "metadata": {},
   "outputs": [
    {
     "name": "stdout",
     "output_type": "stream",
     "text": [
      "Step 1: Type of var = <class 'int'>\n",
      "Step 2: Type of var = <class 'str'>\n",
      "Step 3: Type of var = <class 'float'>\n",
      "Step 4: Type of var = <class 'bool'>\n"
     ]
    }
   ],
   "source": [
    "#Python hack to make variables and change their value\n",
    "\n",
    "# Step 1: Initialize the variable\n",
    "var = 10\n",
    "print(\"Step 1: Type of var =\", type(var))\n",
    "\n",
    "# Step 2: Reassign a new type\n",
    "var = \"Hello, World!\"\n",
    "print(\"Step 2: Type of var =\", type(var))\n",
    "\n",
    "# Step 3: Reassign to another type\n",
    "var = 3.14\n",
    "print(\"Step 3: Type of var =\", type(var))\n",
    "\n",
    "# Step 4: Reassign to a boolean\n",
    "var = True\n",
    "print(\"Step 4: Type of var =\", type(var))\n"
   ]
  }
 ],
 "metadata": {
  "kernelspec": {
   "display_name": "venv",
   "language": "python",
   "name": "python3"
  },
  "language_info": {
   "codemirror_mode": {
    "name": "ipython",
    "version": 3
   },
   "file_extension": ".py",
   "mimetype": "text/x-python",
   "name": "python",
   "nbconvert_exporter": "python",
   "pygments_lexer": "ipython3",
   "version": "3.10.12"
  }
 },
 "nbformat": 4,
 "nbformat_minor": 2
}
