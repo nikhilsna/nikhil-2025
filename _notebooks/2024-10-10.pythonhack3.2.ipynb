{
 "cells": [
  {
   "cell_type": "markdown",
   "metadata": {},
   "source": [
    "---\n",
    "layout: post \n",
    "title: JS Hack for Group 3.2\n",
    "permalink: /pyhack3.2/\n",
    "toc: true\n",
    "---"
   ]
  },
  {
   "cell_type": "code",
   "execution_count": null,
   "metadata": {},
   "outputs": [],
   "source": [
    "# Function to add two numbers\n",
    "def add_numbers(num1, num2):\n",
    "    \"\"\"\n",
    "    This function takes two integers and returns their sum.\n",
    "    \"\"\"\n",
    "    return num1 + num2\n",
    "\n",
    "# Try to get input from the user\n",
    "try:\n",
    "    # Ask for the first number\n",
    "    first_number = int(input(\"Enter the first integer: \"))\n",
    "    \n",
    "    # Ask for the second number\n",
    "    second_number = int(input(\"Enter the second integer: \"))\n",
    "\n",
    "    # Calculate the sum using the function\n",
    "    result = add_numbers(first_number, second_number)\n",
    "\n",
    "    # Output the result\n",
    "    print(f\"The sum of {first_number} and {second_number} is {result}\")\n",
    "\n",
    "# Handle cases where the input isn't a valid integer\n",
    "except ValueError:\n",
    "    print(\"Invalid input. Please enter valid integers.\")\n",
    "\n"
   ]
  }
 ],
 "metadata": {
  "language_info": {
   "name": "python"
  }
 },
 "nbformat": 4,
 "nbformat_minor": 2
}
