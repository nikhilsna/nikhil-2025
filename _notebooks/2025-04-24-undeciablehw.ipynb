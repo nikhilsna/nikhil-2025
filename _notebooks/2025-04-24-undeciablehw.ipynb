{
 "cells": [
  {
   "cell_type": "markdown",
   "id": "248cb4af",
   "metadata": {},
   "source": [
    "---\n",
    "layout: post \n",
    "title: Homework hack for undecidable problems\n",
    "permalink: /undpr/\n",
    "toc: true\n",
    "comments: true\n",
    "---"
   ]
  },
  {
   "cell_type": "markdown",
   "id": "1ed3bae4",
   "metadata": {},
   "source": [
    "\n",
    "---\n",
    "\n",
    "<img src=\"{{ site.baseurl }}/images/collegeboardgraph.png\" alt=\"Question\" style=\"max-width: 500px; margin-top: 1rem; border: 1px solid #ddd; border-radius: 3px;\">\n",
    "\n",
    "### 📌 Q1: Redundant Routing Between Q and V  \n",
    "**Answer:** **C) Both configuration I and configuration II**  \n",
    "> Both configs have multiple independent paths from Q to V. Redundancy exists either way.\n",
    "\n",
    "---\n",
    "\n",
    "### 📌 Q2: Minimum Connections to Break T–U Communication  \n",
    "**Answer:** **B) Two**  \n",
    "> In Configuration I, breaking **T–P** and **T–V** severs all direct/indirect links between T and U.\n",
    "\n",
    "---\n"
   ]
  }
 ],
 "metadata": {
  "language_info": {
   "name": "python"
  }
 },
 "nbformat": 4,
 "nbformat_minor": 5
}
