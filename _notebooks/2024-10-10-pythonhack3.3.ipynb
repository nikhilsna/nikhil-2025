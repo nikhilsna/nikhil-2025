{
 "cells": [
  {
   "cell_type": "markdown",
   "metadata": {},
   "source": [
    "---\n",
    "layout: post \n",
    "title: Python Hack for Group 3.5\n",
    "permalink: /pyhack3.3/\n",
    "toc: true\n",
    "---"
   ]
  },
  {
   "cell_type": "code",
   "execution_count": null,
   "metadata": {},
   "outputs": [],
   "source": [
    "# Hack 2: A function to calculate the y-value for the equation f(x) = 5x + 2\n",
    "def calculate_y(x):\n",
    "    \"\"\"\n",
    "    Calculates the y-value of the function f(x) = 5x + 2.\n",
    "    \n",
    "    Args:\n",
    "    x (int or float): The x-value that you plug into the equation.\n",
    "    \n",
    "    Returns:\n",
    "    int or float: The y-value corresponding to the x-value.\n",
    "    \"\"\"\n",
    "    \n",
    "    # Here's the equation: y = 5 * x + 2\n",
    "    y = 5 * x + 2  # Multiply the x-value by 5 and add 2\n",
    "    \n",
    "    return y  # Return the y-value\n",
    "\n",
    "# Test the function with some x-values\n",
    "print(calculate_y(3))   # Output: 17 (When x = 3, y = 5*3 + 2 = 17)\n",
    "print(calculate_y(0))   # Output: 2  (When x = 0, y = 5*0 + 2 = 2)\n",
    "print(calculate_y(-2))  # Output: -8 (When x = -2, y = 5*(-2) + 2 = -8)\n"
   ]
  },
  {
   "cell_type": "markdown",
   "metadata": {},
   "source": []
  }
 ],
 "metadata": {
  "language_info": {
   "name": "python"
  }
 },
 "nbformat": 4,
 "nbformat_minor": 2
}
