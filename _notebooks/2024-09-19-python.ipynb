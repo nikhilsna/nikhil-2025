{
 "cells": [
  {
   "cell_type": "markdown",
   "metadata": {},
   "source": [
    "---\n",
    "layout: post \n",
    "title: Python Notebook\n",
    "permalink: /python/ \n",
    "toc: true\n",
    "---"
   ]
  },
  {
   "cell_type": "code",
   "execution_count": 4,
   "metadata": {},
   "outputs": [
    {
     "name": "stdout",
     "output_type": "stream",
     "text": [
      "👍 Python is awesome, and I love Jupyter notebooks! 😀\n",
      "Hello, my name is Nikhil. I am 15 years old, I live in Los Angeles, and my favorite programming language is Python.\n"
     ]
    }
   ],
   "source": [
    "from emoji import emojize \n",
    "print(emojize(\":thumbs_up: Python is awesome, and I love Jupyter notebooks! :grinning_face:\"))\n",
    "\n"
   ]
  },
  {
   "cell_type": "code",
   "execution_count": 5,
   "metadata": {},
   "outputs": [
    {
     "name": "stdout",
     "output_type": "stream",
     "text": [
      "Hello, my name is Nikhil. I am 15 years old, I live in Los Angeles, and my favorite programming language is Python.\n"
     ]
    }
   ],
   "source": [
    "# Create a dictionary to store the data\n",
    "user_info = {\n",
    "    'name': 'Nikhil',\n",
    "    'age': 15,\n",
    "    'city': 'Los Angeles',\n",
    "    'favorite_language': 'Python'\n",
    "}\n",
    "\n",
    "# Print a formatted message using the dictionary values\n",
    "message = f\"Hello, my name is {user_info['name']}. I am {user_info['age']} years old, I live in {user_info['city']}, and my favorite programming language is {user_info['favorite_language']}.\"\n",
    "\n",
    "print(message)\n"
   ]
  }
 ],
 "metadata": {
  "kernelspec": {
   "display_name": "venv",
   "language": "python",
   "name": "python3"
  },
  "language_info": {
   "codemirror_mode": {
    "name": "ipython",
    "version": 3
   },
   "file_extension": ".py",
   "mimetype": "text/x-python",
   "name": "python",
   "nbconvert_exporter": "python",
   "pygments_lexer": "ipython3",
   "version": "3.10.12"
  }
 },
 "nbformat": 4,
 "nbformat_minor": 2
}
