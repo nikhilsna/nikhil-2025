{
 "cells": [
  {
   "cell_type": "markdown",
   "metadata": {},
   "source": [
    "---\n",
    "comments: true\n",
    "layout: post\n",
    "title: JavaScript For Loops and Sprites\n",
    "description: An introduction to JavaScript for loops and working with Sprites.\n",
    "permalink: /jssprites/\n",
    "categories: [JavaScript Fundamentals]\n",
    "courses: { csse: {week: 7} }\n",
    "type: ccc\n",
    "---\n"
   ]
  },
  {
   "cell_type": "markdown",
   "metadata": {},
   "source": [
    "## MetaData, Class, For Loops\n",
    "\n",
    "The objective of this article is to enhance your knowledge and understanding of MetaData, Class Definitions, and For-Loops.\n",
    "\n",
    "**MetaData**: In this article, MetaData contains information about the sprite, including its name, source URL, and orientation details such as the number of rows and columns, header size, padding, and jagged rows.\n",
    "\n",
    "**Class**: In this context, the canvas and drawing operations are initialized and stored in a class. These are used to output the sprite sheet image and individual frames within the sprite sheet.\n",
    "  - **constructor**: Initializes the canvas, context, and sprite image.\n",
    "  - **draw() method**: Uses nested **for-loops** to iterate through the sprite sheet and draw each frame independently on the canvas. It calculates the source and destination coordinates for each frame, taking into account the header and padding.\n"
   ]
  },
  {
   "cell_type": "markdown",
   "metadata": {},
   "source": [
    "### Introduction to For Loops\n",
    "\n",
    "For Loops are commonly used to iterate over data structures, including JavaScript Arrays and Objects. \n",
    "\n",
    "Below is an example of a conventional for loop that iterates over an array of names and displays each name in a paragraph (`<p>`) tag within a designated HTML div.\n"
   ]
  },
  {
   "cell_type": "code",
   "execution_count": null,
   "metadata": {
    "vscode": {
     "languageId": "html"
    }
   },
   "outputs": [],
   "source": [
    "%%html\n",
    "\n",
    "<!-- HTML output div -->\n",
    "<div id=\"forConventional\"></div>\n",
    "\n",
    "<script>\n",
    "    var names = ['turtle', 'fish', 'frog', 'penguin'];\n",
    "\n",
    "    // Conventional for loop with index used to access elements\n",
    "    for (let i = 0; i < names.length; i++) {\n",
    "\n",
    "        // Create a p tag for each name and add it to the forConventional div\n",
    "        const p = document.createElement('p');\n",
    "        p.innerHTML = names[i];\n",
    "        document.getElementById('forConventional').appendChild(p);\n",
    "\n",
    "    }\n",
    "</script>\n"
   ]
  },
  {
   "cell_type": "markdown",
   "metadata": {},
   "source": [
    "### ForEach Loop\n",
    "\n",
    "The ForEach loop is another way to iterate over data structures, such as JavaScript Arrays and Objects. Below is an example of a ForEach loop that iterates over an array of coding adventures and displays each adventure in a paragraph (`<p>`) tag within a designated HTML div.\n"
   ]
  },
  {
   "cell_type": "markdown",
   "metadata": {},
   "source": [
    "%%html\n",
    "\n",
    "<!-- HTML output div -->\n",
    "<div id=\"forEach\"></div>\n",
    "\n",
    "<script>\n",
    "    var codingAdventures = ['GitHub', 'Terminal', 'Jupyter', 'JavaScript'];\n",
    "\n",
    "    // ForEach loop to iterate over the array\n",
    "    for (let adventure of codingAdventures) {\n",
    "\n",
    "        // Create a p tag for each adventure and add it to the forEach div\n",
    "        const p = document.createElement('p');\n",
    "        p.innerHTML = adventure;\n",
    "        document.getElementById('forEach').appendChild(p);\n",
    "\n",
    "    }\n",
    "</script>\n"
   ]
  },
  {
   "cell_type": "markdown",
   "metadata": {},
   "source": [
    "### 2D array\n",
    "\n",
    "There is a data structure called **arrays in arrays** or **2D arrays**. The data structure helps organize the data efficiently and access it using **nested loops**. Each row in the 2D array will represent a category (e.g., GitHub, Terminal), and each column will contain an array of questions and answers for that category.\n"
   ]
  },
  {
   "cell_type": "code",
   "execution_count": null,
   "metadata": {
    "vscode": {
     "languageId": "html"
    }
   },
   "outputs": [],
   "source": [
    "%%html\n",
    "\n",
    "<div id=\"questionsAnswers\"></div>\n",
    "\n",
    "<script>\n",
    "    // 2D array of questions and answers with titles\n",
    "    var qaArray = [\n",
    "        [\n",
    "            'GitHub',\n",
    "            [\n",
    "                { question: 'What is a repository?', answer: 'A repository is a storage space where your project lives.' },\n",
    "                { question: 'How do you create a branch?', answer: 'You can create a branch by using the command git checkout -b branchName.' },\n",
    "                { question: 'How do you merge branches?', answer: 'You can merge branches by using the command git merge branchName.' },\n",
    "                { question: 'How do you push changes to GitHub?', answer: 'You can push changes to GitHub by using the command git push origin branchName.' }\n",
    "            ]\n",
    "        ],\n",
    "        [\n",
    "            'Terminal',\n",
    "            [\n",
    "                { question: 'What is the command to list hidden files in a directory?', answer: 'The command to list files in a directory is ls -a.' },\n",
    "                { question: 'What is the command to change directories?', answer: 'The command to change directories is cd.' },\n",
    "                { question: 'What is the command to create a new directory?', answer: 'The command to create a new directory is mkdir.' },\n",
    "                { question: 'What is the command to remove a directory?', answer: 'The command to remove a directory is rm -rf.' }\n",
    "            ]\n",
    "        ],\n",
    "        [\n",
    "            'Jupyter Notebook',\n",
    "            [\n",
    "                { question: 'How do you setup a markdown cell?', answer: 'You setup a markdown cell by selecting the cell type dropdown and selecting markdown.' },\n",
    "                { question: 'How do you setup a code cell?', answer: 'You setup a code cell by selecting the cell type dropdown and selecting code.' },\n",
    "                { question: 'What kernel do you select to run JavaScript code?', answer: 'You select the Python kernel to run JavaScript code.' },\n",
    "                { question: 'How do you see JavaScript console output?', answer: 'You see JavaScript console output by using the console.log() method.' }\n",
    "            ]\n",
    "        ],\n",
    "        [\n",
    "            'JavaScript',\n",
    "            [\n",
    "                { question: 'What is JavaScript?', answer: 'JavaScript is a programming language that enables you to create interactive web pages.' },\n",
    "                { question: 'What is a variable?', answer: 'A variable is a container that stores data.' },\n",
    "                { question: 'What is a function?', answer: 'A function is a block of code that performs a specific task.' },\n",
    "                { question: 'What is a loop?', answer: 'A loop is a programming structure that repeats a sequence of instructions.' }\n",
    "            ]\n",
    "        ]\n",
    "    ];\n",
    "\n",
    "    // Nested for loops to display questions and answers with titles\n",
    "    for (let category of qaArray) {\n",
    "        // Create an h2 tag for each category title\n",
    "        const h2 = document.createElement('h2');\n",
    "        h2.innerHTML = category[0];  // index 0 is the title of the category\n",
    "        document.getElementById('questionsAnswers').appendChild(h2);\n",
    "\n",
    "        // Iterate through each question and answer in the category\n",
    "        for (let qa of category[1]) {  // index 1 is the array of questions and answers\n",
    "            // Create a p tag for each question and answer\n",
    "            const p = document.createElement('p');\n",
    "            p.innerHTML = `<strong>Q:</strong> ${qa.question} <br> <strong>A:</strong> ${qa.answer}`;\n",
    "            document.getElementById('questionsAnswers').appendChild(p);\n",
    "        }\n",
    "    }\n",
    "</script>\n"
   ]
  }
 ],
 "metadata": {
  "kernelspec": {
   "display_name": "venv",
   "language": "python",
   "name": "python3"
  },
  "language_info": {
   "name": "python",
   "version": "3.10.12"
  }
 },
 "nbformat": 4,
 "nbformat_minor": 2
}
