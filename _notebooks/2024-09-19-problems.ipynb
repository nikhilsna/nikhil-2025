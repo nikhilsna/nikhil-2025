{
 "cells": [
  {
   "cell_type": "markdown",
   "metadata": {},
   "source": [
    "---\n",
    "layout: post \n",
    "title: Python Notebook\n",
    "permalink: /problems/\n",
    "toc: true\n",
    "---"
   ]
  },
  {
   "cell_type": "code",
   "execution_count": null,
   "metadata": {},
   "outputs": [],
   "source": [
    "# Remote Theme: Using theme pages-themes/cayman\n",
    "# jekyll 3.10.0 | Error:  Failed to open TCP connection to codeload.github.com:443 (getaddrinfo: Temporary failure in name resolution)\n",
    "# /home/niku/gems/gems/net-http-0.4.1/lib/net/http.rb:1603:in `initialize': Failed to open TCP connection to codeload.github.com:443 (getaddrinfo: Temporary failure in name resolution) (SocketError)\n",
    "\n",
    "# This error occured to me when running my makefile. I resolved it by commenting out my secondary remote theme, as well as reinstalling bundle.   "
   ]
  }
 ],
 "metadata": {
  "language_info": {
   "name": "python"
  }
 },
 "nbformat": 4,
 "nbformat_minor": 2
}
