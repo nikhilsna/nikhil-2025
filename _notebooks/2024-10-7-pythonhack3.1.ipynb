{
 "cells": [
  {
   "cell_type": "markdown",
   "metadata": {},
   "source": [
    "---\n",
    "layout: post \n",
    "title: Python Hack for Group 3.1\n",
    "permalink: /pyhack/\n",
    "toc: true\n",
    "---"
   ]
  },
  {
   "cell_type": "code",
   "execution_count": null,
   "metadata": {},
   "outputs": [],
   "source": [
    "# Step 1: Initialize the variable\n",
    "var = 10\n",
    "print(\"Step 1: Type of var =\", type(var))\n",
    "\n",
    "# Step 2: Reassign a new type\n",
    "var = \"Hello, World!\"\n",
    "print(\"Step 2: Type of var =\", type(var))\n",
    "\n",
    "# Step 3: Reassign to another type\n",
    "var = 3.14\n",
    "print(\"Step 3: Type of var =\", type(var))\n",
    "\n",
    "# Step 4: Reassign to a boolean\n",
    "var = True\n",
    "print(\"Step 4: Type of var =\", type(var))\n"
   ]
  }
 ],
 "metadata": {
  "language_info": {
   "name": "python"
  }
 },
 "nbformat": 4,
 "nbformat_minor": 2
}
