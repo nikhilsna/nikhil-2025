{
 "cells": [
  {
   "cell_type": "markdown",
   "id": "e52bd30c",
   "metadata": {},
   "source": [
    "---\n",
    "layout: post \n",
    "title: Lists and filtering Algorithms\n",
    "permalink: /lstflt/\n",
    "toc: true\n",
    "---"
   ]
  },
  {
   "cell_type": "code",
   "execution_count": null,
   "id": "6f9c191d",
   "metadata": {},
   "outputs": [
    {
     "name": "stdout",
     "output_type": "stream",
     "text": [
      "After append: ['Skyrim', 'The Witcher 3', 'Elden Ring', 'Cyberpunk 2077', \"Baldur's Gate 3\", 'Starfield']\n",
      "After sort: [\"Baldur's Gate 3\", 'Cyberpunk 2077', 'Elden Ring', 'Skyrim', 'Starfield', 'The Witcher 3']\n",
      "After remove: [\"Baldur's Gate 3\", 'Cyberpunk 2077', 'Elden Ring', 'Skyrim', 'The Witcher 3']\n",
      "\n",
      "Traversing the list with a for loop:\n",
      "I enjoy playing Baldur's Gate 3\n",
      "I enjoy playing Cyberpunk 2077\n",
      "I enjoy playing Elden Ring\n",
      "I enjoy playing Skyrim\n",
      "I enjoy playing The Witcher 3\n",
      "\n",
      "Original DataFrame:\n",
      "              Game  Length\n",
      "0  Baldur's Gate 3     300\n",
      "1   Cyberpunk 2077     150\n",
      "2       Elden Ring     100\n",
      "3           Skyrim      80\n",
      "4    The Witcher 3     120\n",
      "\n",
      "Filtered DataFrame (games longer than 100 hours):\n",
      "              Game  Length\n",
      "0  Baldur's Gate 3     300\n",
      "1   Cyberpunk 2077     150\n",
      "4    The Witcher 3     120\n",
      "\n",
      "Long games using list comprehension: [\"Baldur's Gate 3\", 'Cyberpunk 2077', 'The Witcher 3']\n"
     ]
    },
    {
     "data": {
      "text/plain": [
       "'\\nFiltering algorithms and lists are used in everyday applications like streaming services, which filter vast catalogs\\nof content based on user preferences to create personalized recommendations. Similarly, e-commerce websites use filtering\\nto help customers narrow down product choices based on specified criteria like price range, ratings, or features.\\n'"
      ]
     },
     "execution_count": 1,
     "metadata": {},
     "output_type": "execute_result"
    }
   ],
   "source": [
    "# List Operations and Filtering Homework\n",
    "\n",
    "# 1) Create a list with at least five items\n",
    "favorite_games = [\"Skyrim\", \"The Witcher 3\", \"Elden Ring\", \"Cyberpunk 2077\", \"Baldur's Gate 3\"]\n",
    "\n",
    "# List procedure 1: Append - adds a new item to the end of the list\n",
    "favorite_games.append(\"Starfield\")  # Adding a new game to the list\n",
    "print(\"After append:\", favorite_games)\n",
    "\n",
    "# List procedure 2: Sort - arranges elements in alphabetical order\n",
    "favorite_games.sort()  # Sorting games alphabetically\n",
    "print(\"After sort:\", favorite_games)\n",
    "\n",
    "# List procedure 3: Remove - removes a specific element\n",
    "favorite_games.remove(\"Starfield\")  # Removing a specific game\n",
    "print(\"After remove:\", favorite_games)\n",
    "\n",
    "# 2) List Traversal\n",
    "print(\"\\nTraversing the list with a for loop:\")\n",
    "for game in favorite_games:  # Using a for loop to go through each item one by one\n",
    "    print(f\"I enjoy playing {game}\")\n",
    "\n",
    "# 3) Filtering Algorithm using pandas\n",
    "import pandas as pd\n",
    "\n",
    "# Convert list to pandas DataFrame\n",
    "games_df = pd.DataFrame(favorite_games, columns=[\"Game\"])\n",
    "\n",
    "# Add a column for game length (estimated hours)\n",
    "games_df[\"Length\"] = [300, 150, 100, 80, 120]\n",
    "\n",
    "print(\"\\nOriginal DataFrame:\")\n",
    "print(games_df)\n",
    "\n",
    "# Filtering condition: Games that take over 100 hours to complete\n",
    "long_games = games_df[games_df[\"Length\"] > 100]\n",
    "\n",
    "print(\"\\nFiltered DataFrame (games longer than 100 hours):\")\n",
    "print(long_games)\n",
    "\n",
    "# Manual filtering using list comprehension\n",
    "long_games_list = [game for i, game in enumerate(favorite_games) if games_df.iloc[i][\"Length\"] > 100]\n",
    "print(\"\\nLong games using list comprehension:\", long_games_list)\n",
    "\n",
    "# Final Reflection\n",
    "\"\"\"\n",
    "Filtering algorithms and lists are used in everyday applications like streaming services, which filter vast catalogs\n",
    "of content based on user preferences to create personalized recommendations. e-commerce websites use filtering\n",
    "to help customers narrow down product choices based on specified criteria like price range, ratings, or features.\n",
    "\"\"\""
   ]
  }
 ],
 "metadata": {
  "kernelspec": {
   "display_name": "venv",
   "language": "python",
   "name": "python3"
  },
  "language_info": {
   "codemirror_mode": {
    "name": "ipython",
    "version": 3
   },
   "file_extension": ".py",
   "mimetype": "text/x-python",
   "name": "python",
   "nbconvert_exporter": "python",
   "pygments_lexer": "ipython3",
   "version": "3.10.12"
  }
 },
 "nbformat": 4,
 "nbformat_minor": 5
}
