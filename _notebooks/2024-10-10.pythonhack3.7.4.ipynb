{
 "cells": [
  {
   "cell_type": "markdown",
   "metadata": {},
   "source": [
    "---\n",
    "layout: post \n",
    "title: Python Hack for Group 3.7\n",
    "permalink: /pyhack3.7/\n",
    "toc: true\n",
    "---"
   ]
  },
  {
   "cell_type": "code",
   "execution_count": 1,
   "metadata": {},
   "outputs": [
    {
     "name": "stdout",
     "output_type": "stream",
     "text": [
      "Sorry, you can't vote yet!\n"
     ]
    }
   ],
   "source": [
    "# Ask the user how old they are... assuming they give a number :)\n",
    "age = int(input(\"How old are you? \"))\n",
    "\n",
    "# Check if they're under 18 first \n",
    "if age < 18:\n",
    "    # If they're too young, let them know\n",
    "    print(\"Sorry, you can't vote yet!\")\n",
    "else:\n",
    "    # Otherwise, if they're 18 or older... they're good to go\n",
    "    print(\"You can vote! Go make a difference!\")\n"
   ]
  }
 ],
 "metadata": {
  "kernelspec": {
   "display_name": "venv",
   "language": "python",
   "name": "python3"
  },
  "language_info": {
   "codemirror_mode": {
    "name": "ipython",
    "version": 3
   },
   "file_extension": ".py",
   "mimetype": "text/x-python",
   "name": "python",
   "nbconvert_exporter": "python",
   "pygments_lexer": "ipython3",
   "version": "3.10.12"
  }
 },
 "nbformat": 4,
 "nbformat_minor": 2
}
