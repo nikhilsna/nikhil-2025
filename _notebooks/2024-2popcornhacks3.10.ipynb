{
 "cells": [
  {
   "cell_type": "markdown",
   "metadata": {},
   "source": [
    "---\n",
    "layout: post \n",
    "title: 2 Popcorn Hack for Group 3.10\n",
    "permalink: /pophack3.10/\n",
    "toc: true\n",
    "---"
   ]
  },
  {
   "cell_type": "code",
   "execution_count": null,
   "metadata": {},
   "outputs": [],
   "source": [
    "#popcorn hack 1\n",
    "# step 1: create a list of your choosing\n",
    "my_list = ['apple', 'banana', 'cherry', 'date', 'elderberry']\n",
    "\n",
    "# step 2: remove the last element or item in that list\n",
    "my_list.pop()  # removes 'elderberry'\n",
    "\n",
    "# step 3: remove the first element or item in that list\n",
    "my_list.pop(0)  # removes 'apple'\n",
    "\n",
    "# step 4: remove an element or item in the list that has a different index than the first or last element/item\n",
    "my_list.pop(1)  # removes 'cherry', which is neither the first nor last now\n",
    "\n",
    "# step 5: print the final list\n",
    "print(my_list)  # the final list should be ['banana', 'date']\n"
   ]
  },
  {
   "cell_type": "code",
   "execution_count": null,
   "metadata": {
    "vscode": {
     "languageId": "javascript"
    }
   },
   "outputs": [],
   "source": [
    "//popcorn hack 2\n",
    "// create an array of your choosing\n",
    "let arr = ['apple', 'banana', 'cherry', 'date'];\n",
    "\n",
    "// reverse the array in place\n",
    "arr.reverse();  // this reverses the array without creating a new one\n",
    "\n",
    "// print the reversed array\n",
    "console.log(arr);  // the array should now be reversed: ['date', 'cherry', 'banana', 'apple']\n"
   ]
  }
 ],
 "metadata": {
  "language_info": {
   "name": "python"
  }
 },
 "nbformat": 4,
 "nbformat_minor": 2
}
