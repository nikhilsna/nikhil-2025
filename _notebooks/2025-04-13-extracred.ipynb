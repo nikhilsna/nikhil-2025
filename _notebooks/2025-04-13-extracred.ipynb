{
 "cells": [
  {
   "cell_type": "markdown",
   "id": "557e619e",
   "metadata": {},
   "source": [
    "---\n",
    "layout: post \n",
    "title: Cybersecurity Panel\n",
    "permalink: /excred/\n",
    "toc: true\n",
    "comments: true\n",
    "---"
   ]
  },
  {
   "cell_type": "markdown",
   "id": "91417a2b",
   "metadata": {
    "vscode": {
     "languageId": "plaintext"
    }
   },
   "source": [
    "# Cybersecurity Panel Reflection\n",
    "\n",
    "## INTERESTING INSIGHTS\n",
    "\n",
    "**David Tomasz**:\n",
    "- Tracks hackers for government\n",
    "- Specializes in ransomware\n",
    "- Shows how ransomware damages businesses\n",
    "\n",
    "**Victor Nzeata**:\n",
    "- Created PowerShell scripts to track hackers\n",
    "- Shares technical detection approaches\n",
    "\n",
    "## Key Points\n",
    "\n",
    "- China steals significant IP annually\n",
    "- Russia and China have advanced cybersecurity capabilities\n",
    "- Build IT fundamentals and learn Linux tools\n",
    "- \"Not an industry you turn off at 5pm\"\n",
    "- Network with smart professionals\n",
    "- AI is transforming the field\n",
    "\n",
    "## Technical Q&A\n",
    "- For nginx servers: Create a DHCP folder\n",
    "- Recommended cert: \"Certified Cybersecurity\"\n",
    "\n",
    "## Personal Reflection\n",
    "\n",
    "Based on today's panel, I have learned and understood how cybersecurity is extremely important, and can help save a business from being killed. I hope one day to create my own business in video game development, and after today's panel, it has shown me that cybersecurity is something extremely important you need to make sure to strengthen and have when creating a business, to avoid hacking and data breaches. I would like to dive further into learning about cybersecurity and the benefits of having a strong form of it. It is important I learn more about this, so when I do create a business one day, I can also spend time working in the cybersecurity to make sure the integrity is at the utmost importance. I am very glad I took the time to understand the importance of cybersecurity and why we need it."
   ]
  }
 ],
 "metadata": {
  "language_info": {
   "name": "python"
  }
 },
 "nbformat": 4,
 "nbformat_minor": 5
}
