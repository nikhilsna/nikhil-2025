{
 "cells": [
  {
   "cell_type": "markdown",
   "metadata": {},
   "source": [
    "---\n",
    "layout: post \n",
    "title: JS Hack for Group 3.7\n",
    "permalink: /jshack3.7/\n",
    "toc: true\n",
    "---"
   ]
  },
  {
   "cell_type": "code",
   "execution_count": 3,
   "metadata": {
    "vscode": {
     "languageId": "javascript"
    }
   },
   "outputs": [
    {
     "ename": "SyntaxError",
     "evalue": "unterminated string literal (detected at line 4) (3534884759.py, line 4)",
     "output_type": "error",
     "traceback": [
      "\u001b[0;36m  Cell \u001b[0;32mIn[3], line 4\u001b[0;36m\u001b[0m\n\u001b[0;31m    // Verify if the user's response is 'energetic'\u001b[0m\n\u001b[0m                                                  ^\u001b[0m\n\u001b[0;31mSyntaxError\u001b[0m\u001b[0;31m:\u001b[0m unterminated string literal (detected at line 4)\n"
     ]
    }
   ],
   "source": [
    "// First, we're gonna ask the user how they're feeling health-wise.\n",
    "// We just want them to type 'healthy', 'unhealthy', or 'meh' (a bit of an indifferent answer)\n",
    "let healthStatus = prompt(\"How are you feeling today? Healthy, unhealthy, or meh?\").toLowerCase();\n",
    "\n",
    "// Now let's see what they said...\n",
    "if (healthStatus === \"healthy\") {\n",
    "    // Yay! They feel good. Let's suggest something nice\n",
    "    console.log(\"Awesome! Keep it up. How about some dark chocolate as a reward?\");\n",
    "} else if (healthStatus === \"unhealthy\") {\n",
    "    // Oh no! They're not feeling too great... let's help\n",
    "    console.log(\"Maybe you need a smoothie with some greens? That might help boost your energy.\");\n",
    "} else {\n",
    "    // If they're in the 'meh' zone (neither good nor bad), let's offer something neutral\n",
    "    console.log(\"How about drinking water? Hydration is key, no matter how you feel!\");\n",
    "}\n",
    "\n"
   ]
  }
 ],
 "metadata": {
  "kernelspec": {
   "display_name": "venv",
   "language": "python",
   "name": "python3"
  },
  "language_info": {
   "codemirror_mode": {
    "name": "ipython",
    "version": 3
   },
   "file_extension": ".py",
   "mimetype": "text/x-python",
   "name": "python",
   "nbconvert_exporter": "python",
   "pygments_lexer": "ipython3",
   "version": "3.10.12"
  }
 },
 "nbformat": 4,
 "nbformat_minor": 2
}
