{
 "cells": [
  {
   "cell_type": "markdown",
   "id": "bd44c8dd",
   "metadata": {},
   "source": [
    "---\n",
    "layout: post \n",
    "title: Homework hack for math and logic gates\n",
    "permalink: /mlog/\n",
    "toc: true\n",
    "comments: true\n",
    "---"
   ]
  },
  {
   "cell_type": "code",
   "execution_count": 2,
   "id": "0b030921",
   "metadata": {},
   "outputs": [
    {
     "name": "stdout",
     "output_type": "stream",
     "text": [
      "Decimal to Binary Examples:\n",
      "10 → 1010\n",
      "-5 → -101\n",
      "0 → 0\n",
      "\n",
      "Binary to Decimal Examples:\n",
      "1010 → 10\n",
      "-101 → -5\n",
      "0 → 0\n"
     ]
    }
   ],
   "source": [
    "# ----------------------------\n",
    "# Homework Hack 1: Binary Converter\n",
    "# ----------------------------\n",
    "\n",
    "# Function to convert decimal to binary\n",
    "def decimal_to_binary(decimal_num):\n",
    "    if decimal_num >= 0:\n",
    "        return bin(decimal_num)[2:]  # Remove '0b' prefix for positive numbers\n",
    "    else:\n",
    "        return '-' + bin(abs(decimal_num))[2:]  # Handle negative numbers\n",
    "\n",
    "# Function to convert binary (as string) to decimal\n",
    "def binary_to_decimal(binary_str):\n",
    "    if binary_str.startswith('-'):\n",
    "        return -int(binary_str[1:], 2)\n",
    "    else:\n",
    "        return int(binary_str, 2)\n",
    "\n",
    "# Test cases\n",
    "print(\"Decimal to Binary Examples:\")\n",
    "print(\"10 →\", decimal_to_binary(10))\n",
    "print(\"-5 →\", decimal_to_binary(-5))\n",
    "print(\"0 →\", decimal_to_binary(0))\n",
    "\n",
    "print(\"\\nBinary to Decimal Examples:\")\n",
    "print(\"1010 →\", binary_to_decimal(\"1010\"))\n",
    "print(\"-101 →\", binary_to_decimal(\"-101\"))\n",
    "print(\"0 →\", binary_to_decimal(\"0\"))\n"
   ]
  },
  {
   "cell_type": "code",
   "execution_count": 3,
   "id": "310b17f8",
   "metadata": {},
   "outputs": [
    {
     "name": "stdout",
     "output_type": "stream",
     "text": [
      "Difficulty set to: easy\n"
     ]
    }
   ],
   "source": [
    "# ----------------------------\n",
    "# Homework Hack 2: Difficulty Level Checker\n",
    "# ----------------------------\n",
    "\n",
    "import time\n",
    "\n",
    "valid_difficulties = [\"easy\", \"medium\", \"hard\"]\n",
    "\n",
    "difficulty = input(\"Enter difficulty (easy, medium, hard): \").lower().strip()\n",
    "\n",
    "# Keep asking until a valid difficulty level is entered\n",
    "while difficulty not in valid_difficulties:\n",
    "    print(\"Please enter a valid difficulty level.\")\n",
    "    time.sleep(0.5)\n",
    "    difficulty = input(\"Enter difficulty (easy, medium, hard): \").lower().strip()\n",
    "\n",
    "print(\"Difficulty set to:\", difficulty)\n"
   ]
  }
 ],
 "metadata": {
  "kernelspec": {
   "display_name": "venv",
   "language": "python",
   "name": "python3"
  },
  "language_info": {
   "codemirror_mode": {
    "name": "ipython",
    "version": 3
   },
   "file_extension": ".py",
   "mimetype": "text/x-python",
   "name": "python",
   "nbconvert_exporter": "python",
   "pygments_lexer": "ipython3",
   "version": "3.10.12"
  }
 },
 "nbformat": 4,
 "nbformat_minor": 5
}
