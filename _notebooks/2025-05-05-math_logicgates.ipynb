{
 "cells": [
  {
   "cell_type": "markdown",
   "id": "bd44c8dd",
   "metadata": {},
   "source": [
    "---\n",
    "layout: post \n",
    "title: Homework hack for math and logic gates\n",
    "permalink: /mlog/\n",
    "toc: true\n",
    "comments: true\n",
    "---"
   ]
  },
  {
   "cell_type": "markdown",
   "id": "0b030921",
   "metadata": {},
   "source": [
    "\n",
    "---\n",
    "\n",
    "### ✅ **Homework Hack 1: Binary Converter**\n",
    "\n",
    "```python\n",
    "# Function to convert decimal to binary\n",
    "def decimal_to_binary(decimal_num):\n",
    "    if decimal_num >= 0:\n",
    "        return bin(decimal_num)[2:]  # Remove '0b' prefix\n",
    "    else:\n",
    "        return '-' + bin(abs(decimal_num))[2:]\n",
    "\n",
    "# Function to convert binary (as string) to decimal\n",
    "def binary_to_decimal(binary_str):\n",
    "    if binary_str.startswith('-'):\n",
    "        return -int(binary_str[1:], 2)\n",
    "    else:\n",
    "        return int(binary_str, 2)\n",
    "\n",
    "# Testing the functions\n",
    "print(\"Decimal to Binary Examples:\")\n",
    "print(\"10 →\", decimal_to_binary(10))\n",
    "print(\"-5 →\", decimal_to_binary(-5))\n",
    "print(\"0 →\", decimal_to_binary(0))\n",
    "\n",
    "print(\"\\nBinary to Decimal Examples:\")\n",
    "print(\"1010 →\", binary_to_decimal(\"1010\"))\n",
    "print(\"-101 →\", binary_to_decimal(\"-101\"))\n",
    "print(\"0 →\", binary_to_decimal(\"0\"))\n",
    "```\n",
    "\n",
    "---\n",
    "\n",
    "### ✅ **Homework Hack 2: Difficulty Level Checker (Fixed Version)**\n",
    "\n",
    "```python\n",
    "import time\n",
    "\n",
    "# Prompt user until they enter a valid difficulty level\n",
    "valid_difficulties = [\"easy\", \"medium\", \"hard\"]\n",
    "\n",
    "difficulty = input(\"Enter difficulty (easy, medium, hard): \").lower().strip()\n",
    "\n",
    "# The original condition used 'or', which always evaluated to True.\n",
    "# This fixed version checks if the input is NOT in the list of valid options.\n",
    "while difficulty not in valid_difficulties:\n",
    "    print(\"Please enter a valid difficulty level.\")\n",
    "    time.sleep(0.5)\n",
    "    difficulty = input(\"Enter difficulty (easy, medium, hard): \").lower().strip()\n",
    "\n",
    "print(\"Difficulty set to:\", difficulty)\n",
    "```\n",
    "\n",
    "---"
   ]
  }
 ],
 "metadata": {
  "language_info": {
   "name": "python"
  }
 },
 "nbformat": 4,
 "nbformat_minor": 5
}
