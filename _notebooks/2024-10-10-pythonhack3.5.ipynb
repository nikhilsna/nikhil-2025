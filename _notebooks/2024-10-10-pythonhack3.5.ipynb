{
 "cells": [
  {
   "cell_type": "markdown",
   "metadata": {},
   "source": [
    "---\n",
    "layout: post \n",
    "title: Python Hack for Group 3.5\n",
    "permalink: /pyhack3.5/\n",
    "toc: true\n",
    "---"
   ]
  },
  {
   "cell_type": "code",
   "execution_count": null,
   "metadata": {},
   "outputs": [],
   "source": [
    "# Hack 1: A simple function to decide if you should go outside\n",
    "def go_outside(temperature, is_raining):\n",
    "    \"\"\"\n",
    "    Determines if it's a good idea to go outside based on the temperature and weather.\n",
    "    \n",
    "    Args:\n",
    "    temperature (int or float): The temperature outside in degrees.\n",
    "    is_raining (bool): A boolean that tells us if it's raining (True means raining, False means no rain).\n",
    "    \n",
    "    Returns:\n",
    "    bool: True if it's good to go outside, False if it's better to stay in.\n",
    "    \"\"\"\n",
    "    \n",
    "    # If the temperature is less than 100 degrees and it's raining, it's fine to go outside\n",
    "    if temperature < 100 and is_raining:\n",
    "        return True  # It's not too hot, and you're fine with a little rain.\n",
    "    \n",
    "    # If the temperature is more than 32 degrees and it's NOT raining, go outside!\n",
    "    elif temperature > 32 and not is_raining:\n",
    "        return True  # It's not freezing, and there's no rain—perfect for going out!\n",
    "    \n",
    "    # If neither condition is met, it means it's either too hot or too cold, or just not ideal.\n",
    "    else:\n",
    "        return False  # Better to stay inside.\n",
    "\n",
    "# Test the function with some examples\n",
    "print(go_outside(95, True))  # Output: True (It's raining, but under 100 degrees)\n",
    "print(go_outside(50, False)) # Output: True (It's a nice cool day and no rain)\n",
    "print(go_outside(101, False))# Output: False (Too hot to go outside)\n"
   ]
  }
 ],
 "metadata": {
  "language_info": {
   "name": "python"
  }
 },
 "nbformat": 4,
 "nbformat_minor": 2
}
