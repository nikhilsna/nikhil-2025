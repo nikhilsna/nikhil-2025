{
 "cells": [
  {
   "cell_type": "markdown",
   "metadata": {},
   "source": [
    "---\n",
    "layout: post \n",
    "title: Simple iteration with loops\n",
    "permalink: /itloop/\n",
    "toc: true\n",
    "---"
   ]
  },
  {
   "cell_type": "code",
   "execution_count": 2,
   "metadata": {},
   "outputs": [
    {
     "name": "stdout",
     "output_type": "stream",
     "text": [
      "1\n",
      "2\n",
      "3\n",
      "4\n",
      "5\n"
     ]
    }
   ],
   "source": [
    "## This is a simple for loop that iterates over a list of fruits.\n",
    "# The loop will go through each fruit in the list and display its name.\n",
    "# Loops like this are useful for repeating actions without writing the same code multiple times.\n",
    "#Here's psuedocode as example:\n",
    "\n",
    "# Pseudocode:\n",
    "# numbers ← [1, 2, 3, 4, 5]\n",
    "# FOR EACH number IN numbers:\n",
    "#     DISPLAY number\n",
    "# END FOR\n",
    "\n",
    "# Python Code:\n",
    "numbers = [1, 2, 3, 4, 5]\n",
    "for number in numbers:\n",
    "    print(number)\n",
    "\n",
    "#Problem: Iterating with a Simple For Loop\n",
    "#Create a list of numbers from 1 to 5. Write a for loop that displays each number in the list.\n",
    "\n"
   ]
  }
 ],
 "metadata": {
  "kernelspec": {
   "display_name": "venv",
   "language": "python",
   "name": "python3"
  },
  "language_info": {
   "codemirror_mode": {
    "name": "ipython",
    "version": 3
   },
   "file_extension": ".py",
   "mimetype": "text/x-python",
   "name": "python",
   "nbconvert_exporter": "python",
   "pygments_lexer": "ipython3",
   "version": "3.10.12"
  }
 },
 "nbformat": 4,
 "nbformat_minor": 2
}
