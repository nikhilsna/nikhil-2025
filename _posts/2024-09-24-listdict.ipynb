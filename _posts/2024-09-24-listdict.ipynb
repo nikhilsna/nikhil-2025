{
 "cells": [
  {
   "cell_type": "markdown",
   "metadata": {},
   "source": [
    "---\n",
    "layout: post \n",
    "title: Looping With Lists And Dictionaries\n",
    "permalink: /listdict/\n",
    "toc: true\n",
    "---"
   ]
  },
  {
   "cell_type": "code",
   "execution_count": null,
   "metadata": {},
   "outputs": [],
   "source": [
    "# In programming, loops are used to iterate over collections of data, such as lists or dictionaries.\n",
    "# This allows us to perform operations on each item without manually writing repetitive code.\n",
    "# In this example, we will iterate over a list of colors and a dictionary containing fruit details.\n",
    "\n",
    "# Pseudocode:\n",
    "# colors ← [\"red\", \"blue\", \"green\", \"yellow\"]\n",
    "# FOR EACH color IN colors:\n",
    "#     DISPLAY color\n",
    "# END FOR\n",
    "\n",
    "\n",
    "# Example 1: Loop through a list of colors\n",
    "colors = [\"red\", \"blue\", \"green\", \"yellow\"]\n",
    "for color in colors:\n",
    "    print(color)  # Display each color\n",
    "\n",
    "# Example 2: Loop through a fruit dictionary\n",
    "fruits = {\"apple\": 3, \"banana\": 5, \"cherry\": 7}  # Number of each type of fruit\n",
    "for fruit, quantity in fruits.items():\n",
    "    print(fruit, \":\", quantity)  # Display each fruit and its quantity\n",
    "\n",
    "#Problem: Looping Through a List\n",
    "#Create a list of your three favorite foods. Write a loop to display each food item in the list."
   ]
  }
 ],
 "metadata": {
  "language_info": {
   "name": "python"
  }
 },
 "nbformat": 4,
 "nbformat_minor": 2
}
